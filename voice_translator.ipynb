{
 "cells": [
  {
   "cell_type": "code",
   "execution_count": 2,
   "id": "641eb603",
   "metadata": {
    "scrolled": true
   },
   "outputs": [
    {
     "name": "stdout",
     "output_type": "stream",
     "text": [
      "Clearing\n",
      "waiting\n",
      "done\n",
      "recognizing\n",
      "hello you are Faltu\n",
      "typehi\n",
      "हैलो तुम फालतू हो\n"
     ]
    }
   ],
   "source": [
    "import speech_recognition as sr\n",
    "from googletrans import Translator\n",
    "import pyttsx3\n",
    "recognizer=sr.Recognizer()\n",
    "engine=pyttsx3.init()\n",
    "with sr.Microphone() as source:\n",
    "    print('Clearing')\n",
    "    recognizer.adjust_for_ambient_noise(source,duration=1)\n",
    "    print('waiting')\n",
    "    audio=recognizer.listen(source)\n",
    "    print('done')\n",
    "try:\n",
    "    print('recognizing')\n",
    "    result=recognizer.recognize_google(audio,language='en')\n",
    "    print(result)\n",
    "except Exception as ex:\n",
    "    print(ex)\n",
    "def tran():\n",
    "    langin=input('type')\n",
    "    translator=Translator()\n",
    "    translate_text=translator.translate(str(result),dest=str(langin))\n",
    "    s=translate_text\n",
    "    print(s.text)\n",
    "    engine.say(str(s.pronunciation))\n",
    "    engine.runAndWait()\n",
    "tran()"
   ]
  },
  {
   "cell_type": "code",
   "execution_count": null,
   "id": "c4257259",
   "metadata": {},
   "outputs": [],
   "source": []
  },
  {
   "cell_type": "code",
   "execution_count": null,
   "id": "40cb3a11",
   "metadata": {},
   "outputs": [],
   "source": []
  }
 ],
 "metadata": {
  "kernelspec": {
   "display_name": "Python 3",
   "language": "python",
   "name": "python3"
  },
  "language_info": {
   "codemirror_mode": {
    "name": "ipython",
    "version": 3
   },
   "file_extension": ".py",
   "mimetype": "text/x-python",
   "name": "python",
   "nbconvert_exporter": "python",
   "pygments_lexer": "ipython3",
   "version": "3.8.8"
  }
 },
 "nbformat": 4,
 "nbformat_minor": 5
}
